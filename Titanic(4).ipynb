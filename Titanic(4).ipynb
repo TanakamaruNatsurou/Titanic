{
 "cells": [
  {
   "cell_type": "code",
   "execution_count": 1,
   "metadata": {
    "collapsed": true
   },
   "outputs": [],
   "source": [
    "#Mission: It is your job to predict if a passenger survived the sinking of the Titanic or not. For each PassengerId in the test set, you must predict a 0 or 1 value for the Survived variable.\n",
    "#Evaluation: Your score is the percentage of passengers you correctly predict. This is known simply as \"accuracy”.\n",
    "\n",
    "import numpy as np\n",
    "import pandas as pd\n",
    "import matplotlib.pyplot as plt\n",
    "import seaborn as sns\n",
    "% matplotlib inline"
   ]
  },
  {
   "cell_type": "code",
   "execution_count": 2,
   "metadata": {
    "collapsed": true
   },
   "outputs": [],
   "source": [
    "#data を取得\n",
    "df_train = pd.read_csv('titanic_train.csv')\n",
    "df_test = pd.read_csv('titanic_test.csv')"
   ]
  },
  {
   "cell_type": "code",
   "execution_count": 3,
   "metadata": {},
   "outputs": [
    {
     "data": {
      "text/html": [
       "<div>\n",
       "<style>\n",
       "    .dataframe thead tr:only-child th {\n",
       "        text-align: right;\n",
       "    }\n",
       "\n",
       "    .dataframe thead th {\n",
       "        text-align: left;\n",
       "    }\n",
       "\n",
       "    .dataframe tbody tr th {\n",
       "        vertical-align: top;\n",
       "    }\n",
       "</style>\n",
       "<table border=\"1\" class=\"dataframe\">\n",
       "  <thead>\n",
       "    <tr style=\"text-align: right;\">\n",
       "      <th></th>\n",
       "      <th>Total</th>\n",
       "      <th>Percent</th>\n",
       "    </tr>\n",
       "  </thead>\n",
       "  <tbody>\n",
       "    <tr>\n",
       "      <th>Cabin</th>\n",
       "      <td>687</td>\n",
       "      <td>0.771044</td>\n",
       "    </tr>\n",
       "    <tr>\n",
       "      <th>Age</th>\n",
       "      <td>177</td>\n",
       "      <td>0.198653</td>\n",
       "    </tr>\n",
       "    <tr>\n",
       "      <th>Embarked</th>\n",
       "      <td>2</td>\n",
       "      <td>0.002245</td>\n",
       "    </tr>\n",
       "    <tr>\n",
       "      <th>Fare</th>\n",
       "      <td>0</td>\n",
       "      <td>0.000000</td>\n",
       "    </tr>\n",
       "    <tr>\n",
       "      <th>Ticket</th>\n",
       "      <td>0</td>\n",
       "      <td>0.000000</td>\n",
       "    </tr>\n",
       "  </tbody>\n",
       "</table>\n",
       "</div>"
      ],
      "text/plain": [
       "          Total   Percent\n",
       "Cabin       687  0.771044\n",
       "Age         177  0.198653\n",
       "Embarked      2  0.002245\n",
       "Fare          0  0.000000\n",
       "Ticket        0  0.000000"
      ]
     },
     "execution_count": 3,
     "metadata": {},
     "output_type": "execute_result"
    }
   ],
   "source": [
    "#欠損値の状況を把握\n",
    "total = df_train.isnull().sum().sort_values(ascending=False)\n",
    "percent = (df_train.isnull().sum()/df_train.isnull().count()).sort_values(ascending=False)\n",
    "missing_data = pd.concat([total, percent], axis=1, keys=['Total', 'Percent'])\n",
    "missing_data.head(5)"
   ]
  },
  {
   "cell_type": "code",
   "execution_count": 4,
   "metadata": {},
   "outputs": [
    {
     "data": {
      "text/plain": [
       "<matplotlib.axes._subplots.AxesSubplot at 0x1a16d706d8>"
      ]
     },
     "execution_count": 4,
     "metadata": {},
     "output_type": "execute_result"
    },
    {
     "name": "stderr",
     "output_type": "stream",
     "text": [
      "/Users/tanakamarunatsurou/.pyenv/versions/anaconda3-5.0.0/lib/python3.6/site-packages/matplotlib/font_manager.py:1297: UserWarning: findfont: Font family ['IPAexGothic'] not found. Falling back to DejaVu Sans\n",
      "  (prop.get_family(), self.defaultFamily[fontext]))\n"
     ]
    },
    {
     "data": {
      "image/png": "[encoded data removed]",
      "text/plain": [
       "<matplotlib.figure.Figure at 0x1a16d70cc0>"
      ]
     },
     "metadata": {},
     "output_type": "display_data"
    }
   ],
   "source": [
    "#Cabinは削除\n",
    "df_train = df_train.drop(['Cabin'], axis=1)\n",
    "\n",
    "#Embarked,二個だけなので最も多い値を入れとく\n",
    "sns.countplot(x='Embarked', data=df_train)"
   ]
  },
  {
   "cell_type": "code",
   "execution_count": 5,
   "metadata": {},
   "outputs": [
    {
     "name": "stderr",
     "output_type": "stream",
     "text": [
      "/Users/tanakamarunatsurou/.pyenv/versions/anaconda3-5.0.0/lib/python3.6/site-packages/ipykernel_launcher.py:6: FutureWarning: currently extract(expand=None) means expand=False (return Index/Series/DataFrame) but in a future version of pandas this will be changed to expand=True (return DataFrame)\n",
      "  \n"
     ]
    },
    {
     "data": {
      "text/html": [
       "<style  type=\"text/css\" >\n",
       "    #T_788f5d46_cb90_11e7_8b64_32001acbed20row0_col0 {\n",
       "            background-color:  #ffff66;\n",
       "        }    #T_788f5d46_cb90_11e7_8b64_32001acbed20row0_col1 {\n",
       "            background-color:  #ffff66;\n",
       "        }    #T_788f5d46_cb90_11e7_8b64_32001acbed20row0_col2 {\n",
       "            background-color:  #008066;\n",
       "        }    #T_788f5d46_cb90_11e7_8b64_32001acbed20row0_col3 {\n",
       "            background-color:  #ffff66;\n",
       "        }    #T_788f5d46_cb90_11e7_8b64_32001acbed20row0_col4 {\n",
       "            background-color:  #ffff66;\n",
       "        }    #T_788f5d46_cb90_11e7_8b64_32001acbed20row0_col5 {\n",
       "            background-color:  #ffff66;\n",
       "        }    #T_788f5d46_cb90_11e7_8b64_32001acbed20row0_col6 {\n",
       "            background-color:  #008066;\n",
       "        }    #T_788f5d46_cb90_11e7_8b64_32001acbed20row0_col7 {\n",
       "            background-color:  #ffff66;\n",
       "        }    #T_788f5d46_cb90_11e7_8b64_32001acbed20row0_col8 {\n",
       "            background-color:  #ffff66;\n",
       "        }    #T_788f5d46_cb90_11e7_8b64_32001acbed20row0_col9 {\n",
       "            background-color:  #008066;\n",
       "        }    #T_788f5d46_cb90_11e7_8b64_32001acbed20row0_col10 {\n",
       "            background-color:  #008066;\n",
       "        }    #T_788f5d46_cb90_11e7_8b64_32001acbed20row0_col11 {\n",
       "            background-color:  #008066;\n",
       "        }    #T_788f5d46_cb90_11e7_8b64_32001acbed20row0_col12 {\n",
       "            background-color:  #ffff66;\n",
       "        }    #T_788f5d46_cb90_11e7_8b64_32001acbed20row0_col13 {\n",
       "            background-color:  #008066;\n",
       "        }    #T_788f5d46_cb90_11e7_8b64_32001acbed20row0_col14 {\n",
       "            background-color:  #008066;\n",
       "        }    #T_788f5d46_cb90_11e7_8b64_32001acbed20row0_col15 {\n",
       "            background-color:  #ffff66;\n",
       "        }    #T_788f5d46_cb90_11e7_8b64_32001acbed20row0_col16 {\n",
       "            background-color:  #ffff66;\n",
       "        }    #T_788f5d46_cb90_11e7_8b64_32001acbed20row1_col0 {\n",
       "            background-color:  #008066;\n",
       "        }    #T_788f5d46_cb90_11e7_8b64_32001acbed20row1_col1 {\n",
       "            background-color:  #008066;\n",
       "        }    #T_788f5d46_cb90_11e7_8b64_32001acbed20row1_col2 {\n",
       "            background-color:  #ffff66;\n",
       "        }    #T_788f5d46_cb90_11e7_8b64_32001acbed20row1_col3 {\n",
       "            background-color:  #008066;\n",
       "        }    #T_788f5d46_cb90_11e7_8b64_32001acbed20row1_col4 {\n",
       "            background-color:  #008066;\n",
       "        }    #T_788f5d46_cb90_11e7_8b64_32001acbed20row1_col5 {\n",
       "            background-color:  #008066;\n",
       "        }    #T_788f5d46_cb90_11e7_8b64_32001acbed20row1_col6 {\n",
       "            background-color:  #ffff66;\n",
       "        }    #T_788f5d46_cb90_11e7_8b64_32001acbed20row1_col7 {\n",
       "            background-color:  #008066;\n",
       "        }    #T_788f5d46_cb90_11e7_8b64_32001acbed20row1_col8 {\n",
       "            background-color:  #008066;\n",
       "        }    #T_788f5d46_cb90_11e7_8b64_32001acbed20row1_col9 {\n",
       "            background-color:  #ffff66;\n",
       "        }    #T_788f5d46_cb90_11e7_8b64_32001acbed20row1_col10 {\n",
       "            background-color:  #ffff66;\n",
       "        }    #T_788f5d46_cb90_11e7_8b64_32001acbed20row1_col11 {\n",
       "            background-color:  #ffff66;\n",
       "        }    #T_788f5d46_cb90_11e7_8b64_32001acbed20row1_col12 {\n",
       "            background-color:  #008066;\n",
       "        }    #T_788f5d46_cb90_11e7_8b64_32001acbed20row1_col13 {\n",
       "            background-color:  #ffff66;\n",
       "        }    #T_788f5d46_cb90_11e7_8b64_32001acbed20row1_col14 {\n",
       "            background-color:  #ffff66;\n",
       "        }    #T_788f5d46_cb90_11e7_8b64_32001acbed20row1_col15 {\n",
       "            background-color:  #008066;\n",
       "        }    #T_788f5d46_cb90_11e7_8b64_32001acbed20row1_col16 {\n",
       "            background-color:  #008066;\n",
       "        }</style>  \n",
       "<table id=\"T_788f5d46_cb90_11e7_8b64_32001acbed20\" > \n",
       "<thead>    <tr> \n",
       "        <th class=\"index_name level0\" >Initial</th> \n",
       "        <th class=\"col_heading level0 col0\" >Capt</th> \n",
       "        <th class=\"col_heading level0 col1\" >Col</th> \n",
       "        <th class=\"col_heading level0 col2\" >Countess</th> \n",
       "        <th class=\"col_heading level0 col3\" >Don</th> \n",
       "        <th class=\"col_heading level0 col4\" >Dr</th> \n",
       "        <th class=\"col_heading level0 col5\" >Jonkheer</th> \n",
       "        <th class=\"col_heading level0 col6\" >Lady</th> \n",
       "        <th class=\"col_heading level0 col7\" >Major</th> \n",
       "        <th class=\"col_heading level0 col8\" >Master</th> \n",
       "        <th class=\"col_heading level0 col9\" >Miss</th> \n",
       "        <th class=\"col_heading level0 col10\" >Mlle</th> \n",
       "        <th class=\"col_heading level0 col11\" >Mme</th> \n",
       "        <th class=\"col_heading level0 col12\" >Mr</th> \n",
       "        <th class=\"col_heading level0 col13\" >Mrs</th> \n",
       "        <th class=\"col_heading level0 col14\" >Ms</th> \n",
       "        <th class=\"col_heading level0 col15\" >Rev</th> \n",
       "        <th class=\"col_heading level0 col16\" >Sir</th> \n",
       "    </tr>    <tr> \n",
       "        <th class=\"index_name level0\" >Sex</th> \n",
       "        <th class=\"blank\" ></th> \n",
       "        <th class=\"blank\" ></th> \n",
       "        <th class=\"blank\" ></th> \n",
       "        <th class=\"blank\" ></th> \n",
       "        <th class=\"blank\" ></th> \n",
       "        <th class=\"blank\" ></th> \n",
       "        <th class=\"blank\" ></th> \n",
       "        <th class=\"blank\" ></th> \n",
       "        <th class=\"blank\" ></th> \n",
       "        <th class=\"blank\" ></th> \n",
       "        <th class=\"blank\" ></th> \n",
       "        <th class=\"blank\" ></th> \n",
       "        <th class=\"blank\" ></th> \n",
       "        <th class=\"blank\" ></th> \n",
       "        <th class=\"blank\" ></th> \n",
       "        <th class=\"blank\" ></th> \n",
       "        <th class=\"blank\" ></th> \n",
       "    </tr></thead> \n",
       "<tbody>    <tr> \n",
       "        <th id=\"T_788f5d46_cb90_11e7_8b64_32001acbed20level0_row0\" class=\"row_heading level0 row0\" >female</th> \n",
       "        <td id=\"T_788f5d46_cb90_11e7_8b64_32001acbed20row0_col0\" class=\"data row0 col0\" >0</td> \n",
       "        <td id=\"T_788f5d46_cb90_11e7_8b64_32001acbed20row0_col1\" class=\"data row0 col1\" >0</td> \n",
       "        <td id=\"T_788f5d46_cb90_11e7_8b64_32001acbed20row0_col2\" class=\"data row0 col2\" >1</td> \n",
       "        <td id=\"T_788f5d46_cb90_11e7_8b64_32001acbed20row0_col3\" class=\"data row0 col3\" >0</td> \n",
       "        <td id=\"T_788f5d46_cb90_11e7_8b64_32001acbed20row0_col4\" class=\"data row0 col4\" >1</td> \n",
       "        <td id=\"T_788f5d46_cb90_11e7_8b64_32001acbed20row0_col5\" class=\"data row0 col5\" >0</td> \n",
       "        <td id=\"T_788f5d46_cb90_11e7_8b64_32001acbed20row0_col6\" class=\"data row0 col6\" >1</td> \n",
       "        <td id=\"T_788f5d46_cb90_11e7_8b64_32001acbed20row0_col7\" class=\"data row0 col7\" >0</td> \n",
       "        <td id=\"T_788f5d46_cb90_11e7_8b64_32001acbed20row0_col8\" class=\"data row0 col8\" >0</td> \n",
       "        <td id=\"T_788f5d46_cb90_11e7_8b64_32001acbed20row0_col9\" class=\"data row0 col9\" >182</td> \n",
       "        <td id=\"T_788f5d46_cb90_11e7_8b64_32001acbed20row0_col10\" class=\"data row0 col10\" >2</td> \n",
       "        <td id=\"T_788f5d46_cb90_11e7_8b64_32001acbed20row0_col11\" class=\"data row0 col11\" >1</td> \n",
       "        <td id=\"T_788f5d46_cb90_11e7_8b64_32001acbed20row0_col12\" class=\"data row0 col12\" >0</td> \n",
       "        <td id=\"T_788f5d46_cb90_11e7_8b64_32001acbed20row0_col13\" class=\"data row0 col13\" >125</td> \n",
       "        <td id=\"T_788f5d46_cb90_11e7_8b64_32001acbed20row0_col14\" class=\"data row0 col14\" >1</td> \n",
       "        <td id=\"T_788f5d46_cb90_11e7_8b64_32001acbed20row0_col15\" class=\"data row0 col15\" >0</td> \n",
       "        <td id=\"T_788f5d46_cb90_11e7_8b64_32001acbed20row0_col16\" class=\"data row0 col16\" >0</td> \n",
       "    </tr>    <tr> \n",
       "        <th id=\"T_788f5d46_cb90_11e7_8b64_32001acbed20level0_row1\" class=\"row_heading level0 row1\" >male</th> \n",
       "        <td id=\"T_788f5d46_cb90_11e7_8b64_32001acbed20row1_col0\" class=\"data row1 col0\" >1</td> \n",
       "        <td id=\"T_788f5d46_cb90_11e7_8b64_32001acbed20row1_col1\" class=\"data row1 col1\" >2</td> \n",
       "        <td id=\"T_788f5d46_cb90_11e7_8b64_32001acbed20row1_col2\" class=\"data row1 col2\" >0</td> \n",
       "        <td id=\"T_788f5d46_cb90_11e7_8b64_32001acbed20row1_col3\" class=\"data row1 col3\" >1</td> \n",
       "        <td id=\"T_788f5d46_cb90_11e7_8b64_32001acbed20row1_col4\" class=\"data row1 col4\" >6</td> \n",
       "        <td id=\"T_788f5d46_cb90_11e7_8b64_32001acbed20row1_col5\" class=\"data row1 col5\" >1</td> \n",
       "        <td id=\"T_788f5d46_cb90_11e7_8b64_32001acbed20row1_col6\" class=\"data row1 col6\" >0</td> \n",
       "        <td id=\"T_788f5d46_cb90_11e7_8b64_32001acbed20row1_col7\" class=\"data row1 col7\" >2</td> \n",
       "        <td id=\"T_788f5d46_cb90_11e7_8b64_32001acbed20row1_col8\" class=\"data row1 col8\" >40</td> \n",
       "        <td id=\"T_788f5d46_cb90_11e7_8b64_32001acbed20row1_col9\" class=\"data row1 col9\" >0</td> \n",
       "        <td id=\"T_788f5d46_cb90_11e7_8b64_32001acbed20row1_col10\" class=\"data row1 col10\" >0</td> \n",
       "        <td id=\"T_788f5d46_cb90_11e7_8b64_32001acbed20row1_col11\" class=\"data row1 col11\" >0</td> \n",
       "        <td id=\"T_788f5d46_cb90_11e7_8b64_32001acbed20row1_col12\" class=\"data row1 col12\" >517</td> \n",
       "        <td id=\"T_788f5d46_cb90_11e7_8b64_32001acbed20row1_col13\" class=\"data row1 col13\" >0</td> \n",
       "        <td id=\"T_788f5d46_cb90_11e7_8b64_32001acbed20row1_col14\" class=\"data row1 col14\" >0</td> \n",
       "        <td id=\"T_788f5d46_cb90_11e7_8b64_32001acbed20row1_col15\" class=\"data row1 col15\" >6</td> \n",
       "        <td id=\"T_788f5d46_cb90_11e7_8b64_32001acbed20row1_col16\" class=\"data row1 col16\" >1</td> \n",
       "    </tr></tbody> \n",
       "</table> "
      ],
      "text/plain": [
       "<pandas.io.formats.style.Styler at 0x10f9f2d30>"
      ]
     },
     "execution_count": 5,
     "metadata": {},
     "output_type": "execute_result"
    }
   ],
   "source": [
    "df_train[\"Embarked\"] = df_train[\"Embarked\"].fillna(\"S\")\n",
    "\n",
    "#イニシャルから、age予測\n",
    "df_train['Initial']=0\n",
    "for i in df_train:\n",
    "    df_train['Initial']=df_train.Name.str.extract('([A-Za-z]+)\\.')\n",
    "\n",
    "\n",
    "pd.crosstab(df_train.Initial,df_train.Sex).T.style.background_gradient(cmap='summer_r')"
   ]
  },
  {
   "cell_type": "code",
   "execution_count": 6,
   "metadata": {},
   "outputs": [
    {
     "data": {
      "text/plain": [
       "Initial\n",
       "Master     4.574167\n",
       "Miss      21.860000\n",
       "Mr        32.739609\n",
       "Mrs       35.981818\n",
       "Other     45.888889\n",
       "Name: Age, dtype: float64"
      ]
     },
     "execution_count": 6,
     "metadata": {},
     "output_type": "execute_result"
    }
   ],
   "source": [
    "df_train['Initial'].replace(['Mlle','Mme','Ms','Dr','Major','Lady','Countess','Jonkheer','Col','Rev','Capt','Sir','Don'],['Miss','Miss','Miss','Mr','Mr','Mrs','Mrs','Other','Other','Other','Mr','Mr','Mr'],inplace=True)\n",
    "\n",
    "df_train.groupby('Initial')['Age'].mean() "
   ]
  },
  {
   "cell_type": "code",
   "execution_count": 7,
   "metadata": {
    "collapsed": true
   },
   "outputs": [],
   "source": [
    "#Age補充\n",
    "df_train.loc[(df_train.Age.isnull())&(df_train.Initial=='Mr'),'Age']=33\n",
    "df_train.loc[(df_train.Age.isnull())&(df_train.Initial=='Mrs'),'Age']=36\n",
    "df_train.loc[(df_train.Age.isnull())&(df_train.Initial=='Master'),'Age']=5\n",
    "df_train.loc[(df_train.Age.isnull())&(df_train.Initial=='Miss'),'Age']=22\n",
    "df_train.loc[(df_train.Age.isnull())&(df_train.Initial=='Other'),'Age']=46"
   ]
  },
  {
   "cell_type": "code",
   "execution_count": 8,
   "metadata": {},
   "outputs": [
    {
     "data": {
      "text/html": [
       "<div>\n",
       "<style>\n",
       "    .dataframe thead tr:only-child th {\n",
       "        text-align: right;\n",
       "    }\n",
       "\n",
       "    .dataframe thead th {\n",
       "        text-align: left;\n",
       "    }\n",
       "\n",
       "    .dataframe tbody tr th {\n",
       "        vertical-align: top;\n",
       "    }\n",
       "</style>\n",
       "<table border=\"1\" class=\"dataframe\">\n",
       "  <thead>\n",
       "    <tr style=\"text-align: right;\">\n",
       "      <th></th>\n",
       "      <th>Total</th>\n",
       "      <th>Percent</th>\n",
       "    </tr>\n",
       "  </thead>\n",
       "  <tbody>\n",
       "    <tr>\n",
       "      <th>Initial</th>\n",
       "      <td>0</td>\n",
       "      <td>0.0</td>\n",
       "    </tr>\n",
       "    <tr>\n",
       "      <th>Embarked</th>\n",
       "      <td>0</td>\n",
       "      <td>0.0</td>\n",
       "    </tr>\n",
       "    <tr>\n",
       "      <th>Fare</th>\n",
       "      <td>0</td>\n",
       "      <td>0.0</td>\n",
       "    </tr>\n",
       "    <tr>\n",
       "      <th>Ticket</th>\n",
       "      <td>0</td>\n",
       "      <td>0.0</td>\n",
       "    </tr>\n",
       "    <tr>\n",
       "      <th>Parch</th>\n",
       "      <td>0</td>\n",
       "      <td>0.0</td>\n",
       "    </tr>\n",
       "  </tbody>\n",
       "</table>\n",
       "</div>"
      ],
      "text/plain": [
       "          Total  Percent\n",
       "Initial       0      0.0\n",
       "Embarked      0      0.0\n",
       "Fare          0      0.0\n",
       "Ticket        0      0.0\n",
       "Parch         0      0.0"
      ]
     },
     "execution_count": 8,
     "metadata": {},
     "output_type": "execute_result"
    }
   ],
   "source": [
    "#欠損値処理完了\n",
    "total = df_train.isnull().sum().sort_values(ascending=False)\n",
    "percent = (df_train.isnull().sum()/df_train.isnull().count()).sort_values(ascending=False)\n",
    "missing_data = pd.concat([total, percent], axis=1, keys=['Total', 'Percent'])\n",
    "missing_data.head(5)"
   ]
  },
  {
   "cell_type": "code",
   "execution_count": 9,
   "metadata": {},
   "outputs": [
    {
     "data": {
      "text/html": [
       "<div>\n",
       "<style>\n",
       "    .dataframe thead tr:only-child th {\n",
       "        text-align: right;\n",
       "    }\n",
       "\n",
       "    .dataframe thead th {\n",
       "        text-align: left;\n",
       "    }\n",
       "\n",
       "    .dataframe tbody tr th {\n",
       "        vertical-align: top;\n",
       "    }\n",
       "</style>\n",
       "<table border=\"1\" class=\"dataframe\">\n",
       "  <thead>\n",
       "    <tr style=\"text-align: right;\">\n",
       "      <th></th>\n",
       "      <th>PassengerId</th>\n",
       "      <th>Survived</th>\n",
       "      <th>Pclass</th>\n",
       "      <th>Name</th>\n",
       "      <th>Sex</th>\n",
       "      <th>Age</th>\n",
       "      <th>SibSp</th>\n",
       "      <th>Parch</th>\n",
       "      <th>Ticket</th>\n",
       "      <th>Fare</th>\n",
       "      <th>Embarked</th>\n",
       "      <th>Initial</th>\n",
       "    </tr>\n",
       "  </thead>\n",
       "  <tbody>\n",
       "    <tr>\n",
       "      <th>0</th>\n",
       "      <td>1</td>\n",
       "      <td>0</td>\n",
       "      <td>3</td>\n",
       "      <td>Braund, Mr. Owen Harris</td>\n",
       "      <td>male</td>\n",
       "      <td>22.0</td>\n",
       "      <td>1</td>\n",
       "      <td>0</td>\n",
       "      <td>A/5 21171</td>\n",
       "      <td>7.2500</td>\n",
       "      <td>S</td>\n",
       "      <td>Mr</td>\n",
       "    </tr>\n",
       "    <tr>\n",
       "      <th>1</th>\n",
       "      <td>2</td>\n",
       "      <td>1</td>\n",
       "      <td>1</td>\n",
       "      <td>Cumings, Mrs. John Bradley (Florence Briggs Th...</td>\n",
       "      <td>female</td>\n",
       "      <td>38.0</td>\n",
       "      <td>1</td>\n",
       "      <td>0</td>\n",
       "      <td>PC 17599</td>\n",
       "      <td>71.2833</td>\n",
       "      <td>C</td>\n",
       "      <td>Mrs</td>\n",
       "    </tr>\n",
       "    <tr>\n",
       "      <th>2</th>\n",
       "      <td>3</td>\n",
       "      <td>1</td>\n",
       "      <td>3</td>\n",
       "      <td>Heikkinen, Miss. Laina</td>\n",
       "      <td>female</td>\n",
       "      <td>26.0</td>\n",
       "      <td>0</td>\n",
       "      <td>0</td>\n",
       "      <td>STON/O2. 3101282</td>\n",
       "      <td>7.9250</td>\n",
       "      <td>S</td>\n",
       "      <td>Miss</td>\n",
       "    </tr>\n",
       "    <tr>\n",
       "      <th>3</th>\n",
       "      <td>4</td>\n",
       "      <td>1</td>\n",
       "      <td>1</td>\n",
       "      <td>Futrelle, Mrs. Jacques Heath (Lily May Peel)</td>\n",
       "      <td>female</td>\n",
       "      <td>35.0</td>\n",
       "      <td>1</td>\n",
       "      <td>0</td>\n",
       "      <td>113803</td>\n",
       "      <td>53.1000</td>\n",
       "      <td>S</td>\n",
       "      <td>Mrs</td>\n",
       "    </tr>\n",
       "    <tr>\n",
       "      <th>4</th>\n",
       "      <td>5</td>\n",
       "      <td>0</td>\n",
       "      <td>3</td>\n",
       "      <td>Allen, Mr. William Henry</td>\n",
       "      <td>male</td>\n",
       "      <td>35.0</td>\n",
       "      <td>0</td>\n",
       "      <td>0</td>\n",
       "      <td>373450</td>\n",
       "      <td>8.0500</td>\n",
       "      <td>S</td>\n",
       "      <td>Mr</td>\n",
       "    </tr>\n",
       "  </tbody>\n",
       "</table>\n",
       "</div>"
      ],
      "text/plain": [
       "   PassengerId  Survived  Pclass  \\\n",
       "0            1         0       3   \n",
       "1            2         1       1   \n",
       "2            3         1       3   \n",
       "3            4         1       1   \n",
       "4            5         0       3   \n",
       "\n",
       "                                                Name     Sex   Age  SibSp  \\\n",
       "0                            Braund, Mr. Owen Harris    male  22.0      1   \n",
       "1  Cumings, Mrs. John Bradley (Florence Briggs Th...  female  38.0      1   \n",
       "2                             Heikkinen, Miss. Laina  female  26.0      0   \n",
       "3       Futrelle, Mrs. Jacques Heath (Lily May Peel)  female  35.0      1   \n",
       "4                           Allen, Mr. William Henry    male  35.0      0   \n",
       "\n",
       "   Parch            Ticket     Fare Embarked Initial  \n",
       "0      0         A/5 21171   7.2500        S      Mr  \n",
       "1      0          PC 17599  71.2833        C     Mrs  \n",
       "2      0  STON/O2. 3101282   7.9250        S    Miss  \n",
       "3      0            113803  53.1000        S     Mrs  \n",
       "4      0            373450   8.0500        S      Mr  "
      ]
     },
     "execution_count": 9,
     "metadata": {},
     "output_type": "execute_result"
    }
   ],
   "source": [
    "df_train.head()"
   ]
  },
  {
   "cell_type": "code",
   "execution_count": 10,
   "metadata": {
    "collapsed": true
   },
   "outputs": [],
   "source": [
    "#カテゴリデータ(Name,Sex,Ticket,Embarked,Initial)の処理\n",
    "#関係なさそうなやつは削除\n",
    "df_train = df_train.drop(['PassengerId','Name','Ticket'], axis=1)\n",
    "\n",
    "#SEX\n",
    "sex_dum = pd.get_dummies(df_train['Sex'])\n",
    "df_train = pd.concat((df_train,sex_dum),axis=1)\n",
    "df_train = df_train.drop('Sex',axis=1)\n",
    " #Embarked\n",
    "emb_dum = pd.get_dummies(df_train['Embarked'])\n",
    "df_train = pd.concat((df_train,emb_dum),axis=1)\n",
    "df_train = df_train.drop('Embarked',axis=1)"
   ]
  },
  {
   "cell_type": "code",
   "execution_count": 11,
   "metadata": {
    "collapsed": true
   },
   "outputs": [],
   "source": [
    "#Family sizeを錬成\n",
    "df_train['FamilySize'] = df_train['SibSp'] + df_train['Parch'] + 1\n",
    "df_train = df_train.drop(['SibSp','Parch'], axis=1)"
   ]
  },
  {
   "cell_type": "code",
   "execution_count": 12,
   "metadata": {
    "collapsed": true
   },
   "outputs": [],
   "source": [
    "#Initial\n",
    "int_dum = pd.get_dummies(df_train['Initial'])\n",
    "df_train = pd.concat((df_train,int_dum),axis=1)\n",
    "df_train = df_train.drop('Initial',axis=1)"
   ]
  },
  {
   "cell_type": "code",
   "execution_count": 13,
   "metadata": {},
   "outputs": [
    {
     "data": {
      "text/html": [
       "<div>\n",
       "<style>\n",
       "    .dataframe thead tr:only-child th {\n",
       "        text-align: right;\n",
       "    }\n",
       "\n",
       "    .dataframe thead th {\n",
       "        text-align: left;\n",
       "    }\n",
       "\n",
       "    .dataframe tbody tr th {\n",
       "        vertical-align: top;\n",
       "    }\n",
       "</style>\n",
       "<table border=\"1\" class=\"dataframe\">\n",
       "  <thead>\n",
       "    <tr style=\"text-align: right;\">\n",
       "      <th></th>\n",
       "      <th>Survived</th>\n",
       "      <th>Pclass</th>\n",
       "      <th>Age</th>\n",
       "      <th>Fare</th>\n",
       "      <th>female</th>\n",
       "      <th>male</th>\n",
       "      <th>C</th>\n",
       "      <th>Q</th>\n",
       "      <th>S</th>\n",
       "      <th>FamilySize</th>\n",
       "      <th>Master</th>\n",
       "      <th>Miss</th>\n",
       "      <th>Mr</th>\n",
       "      <th>Mrs</th>\n",
       "      <th>Other</th>\n",
       "    </tr>\n",
       "  </thead>\n",
       "  <tbody>\n",
       "    <tr>\n",
       "      <th>0</th>\n",
       "      <td>0</td>\n",
       "      <td>3</td>\n",
       "      <td>22.0</td>\n",
       "      <td>7.2500</td>\n",
       "      <td>0</td>\n",
       "      <td>1</td>\n",
       "      <td>0</td>\n",
       "      <td>0</td>\n",
       "      <td>1</td>\n",
       "      <td>2</td>\n",
       "      <td>0</td>\n",
       "      <td>0</td>\n",
       "      <td>1</td>\n",
       "      <td>0</td>\n",
       "      <td>0</td>\n",
       "    </tr>\n",
       "    <tr>\n",
       "      <th>1</th>\n",
       "      <td>1</td>\n",
       "      <td>1</td>\n",
       "      <td>38.0</td>\n",
       "      <td>71.2833</td>\n",
       "      <td>1</td>\n",
       "      <td>0</td>\n",
       "      <td>1</td>\n",
       "      <td>0</td>\n",
       "      <td>0</td>\n",
       "      <td>2</td>\n",
       "      <td>0</td>\n",
       "      <td>0</td>\n",
       "      <td>0</td>\n",
       "      <td>1</td>\n",
       "      <td>0</td>\n",
       "    </tr>\n",
       "    <tr>\n",
       "      <th>2</th>\n",
       "      <td>1</td>\n",
       "      <td>3</td>\n",
       "      <td>26.0</td>\n",
       "      <td>7.9250</td>\n",
       "      <td>1</td>\n",
       "      <td>0</td>\n",
       "      <td>0</td>\n",
       "      <td>0</td>\n",
       "      <td>1</td>\n",
       "      <td>1</td>\n",
       "      <td>0</td>\n",
       "      <td>1</td>\n",
       "      <td>0</td>\n",
       "      <td>0</td>\n",
       "      <td>0</td>\n",
       "    </tr>\n",
       "    <tr>\n",
       "      <th>3</th>\n",
       "      <td>1</td>\n",
       "      <td>1</td>\n",
       "      <td>35.0</td>\n",
       "      <td>53.1000</td>\n",
       "      <td>1</td>\n",
       "      <td>0</td>\n",
       "      <td>0</td>\n",
       "      <td>0</td>\n",
       "      <td>1</td>\n",
       "      <td>2</td>\n",
       "      <td>0</td>\n",
       "      <td>0</td>\n",
       "      <td>0</td>\n",
       "      <td>1</td>\n",
       "      <td>0</td>\n",
       "    </tr>\n",
       "    <tr>\n",
       "      <th>4</th>\n",
       "      <td>0</td>\n",
       "      <td>3</td>\n",
       "      <td>35.0</td>\n",
       "      <td>8.0500</td>\n",
       "      <td>0</td>\n",
       "      <td>1</td>\n",
       "      <td>0</td>\n",
       "      <td>0</td>\n",
       "      <td>1</td>\n",
       "      <td>1</td>\n",
       "      <td>0</td>\n",
       "      <td>0</td>\n",
       "      <td>1</td>\n",
       "      <td>0</td>\n",
       "      <td>0</td>\n",
       "    </tr>\n",
       "  </tbody>\n",
       "</table>\n",
       "</div>"
      ],
      "text/plain": [
       "   Survived  Pclass   Age     Fare  female  male  C  Q  S  FamilySize  Master  \\\n",
       "0         0       3  22.0   7.2500       0     1  0  0  1           2       0   \n",
       "1         1       1  38.0  71.2833       1     0  1  0  0           2       0   \n",
       "2         1       3  26.0   7.9250       1     0  0  0  1           1       0   \n",
       "3         1       1  35.0  53.1000       1     0  0  0  1           2       0   \n",
       "4         0       3  35.0   8.0500       0     1  0  0  1           1       0   \n",
       "\n",
       "   Miss  Mr  Mrs  Other  \n",
       "0     0   1    0      0  \n",
       "1     0   0    1      0  \n",
       "2     1   0    0      0  \n",
       "3     0   0    1      0  \n",
       "4     0   1    0      0  "
      ]
     },
     "execution_count": 13,
     "metadata": {},
     "output_type": "execute_result"
    }
   ],
   "source": [
    "df_train.head()"
   ]
  },
  {
   "cell_type": "code",
   "execution_count": 15,
   "metadata": {},
   "outputs": [
    {
     "data": {
      "text/plain": [
       "RandomForestClassifier(bootstrap=True, class_weight=None, criterion='gini',\n",
       "            max_depth=None, max_features='auto', max_leaf_nodes=None,\n",
       "            min_impurity_decrease=0.0, min_impurity_split=None,\n",
       "            min_samples_leaf=1, min_samples_split=2,\n",
       "            min_weight_fraction_leaf=0.0, n_estimators=10, n_jobs=1,\n",
       "            oob_score=False, random_state=0, verbose=0, warm_start=False)"
      ]
     },
     "execution_count": 15,
     "metadata": {},
     "output_type": "execute_result"
    }
   ],
   "source": [
    "#乗船地(Embarked)は関係ない、Pclass =Fareでは？という前提で、それ以外でrfcしてみる\n",
    "df_train_pickup = df_train.loc[:,['Pclass','Age','female','male','FamilySize','Master','Miss','Mr','Mrs','Other']]\n",
    "X_1 = df_train_pickup.values\n",
    "y_1 = df_train.loc[:,['Survived']].values\n",
    "y_1 = y_1.reshape(-1)\n",
    "\n",
    "from sklearn.ensemble import RandomForestClassifier\n",
    "rfc_1 = RandomForestClassifier(n_estimators = 10, random_state=0)\n",
    "\n",
    "from sklearn.model_selection import train_test_split\n",
    "X_1_train, X_1_test, y_train, y_test = train_test_split(X_1, y_1, random_state = 0, test_size=0.3)\n",
    "\n",
    "rfc_1.fit(X_1_train, y_train)"
   ]
  },
  {
   "cell_type": "code",
   "execution_count": 14,
   "metadata": {},
   "outputs": [
    {
     "data": {
      "text/plain": [
       "RandomForestClassifier(bootstrap=True, class_weight=None, criterion='gini',\n",
       "            max_depth=None, max_features='auto', max_leaf_nodes=None,\n",
       "            min_impurity_decrease=0.0, min_impurity_split=None,\n",
       "            min_samples_leaf=1, min_samples_split=2,\n",
       "            min_weight_fraction_leaf=0.0, n_estimators=10, n_jobs=1,\n",
       "            oob_score=False, random_state=0, verbose=0, warm_start=False)"
      ]
     },
     "execution_count": 14,
     "metadata": {},
     "output_type": "execute_result"
    }
   ],
   "source": [
    "#特徴量を減らしてみる\n",
    "df_train_pickup_2 = df_train.loc[:,['Pclass','Age','female','FamilySize','Master']]\n",
    "X_2 = df_train_pickup_2.values\n",
    "y_1 = df_train.loc[:,['Survived']].values\n",
    "y_1 = y_1.reshape(-1)\n",
    "\n",
    "from sklearn.ensemble import RandomForestClassifier\n",
    "rfc_2 = RandomForestClassifier(n_estimators = 10, random_state=0)\n",
    "\n",
    "from sklearn.model_selection import train_test_split\n",
    "X_2_train, X_2_test, y_train, y_test = train_test_split(X_2, y_1, random_state = 0, test_size=0.3)\n",
    "\n",
    "rfc_2.fit(X_2_train, y_train)"
   ]
  },
  {
   "cell_type": "code",
   "execution_count": 16,
   "metadata": {},
   "outputs": [
    {
     "name": "stdout",
     "output_type": "stream",
     "text": [
      "0.794776119403\n"
     ]
    }
   ],
   "source": [
    "y_pred = rfc_1.predict(X_1_test)\n",
    "\n",
    "from sklearn.metrics import accuracy_score\n",
    "print(accuracy_score(y_test, y_pred))"
   ]
  },
  {
   "cell_type": "code",
   "execution_count": 15,
   "metadata": {},
   "outputs": [
    {
     "name": "stdout",
     "output_type": "stream",
     "text": [
      "0.791044776119\n"
     ]
    }
   ],
   "source": [
    "y_pred_2 = rfc_2.predict(X_2_test)\n",
    "\n",
    "from sklearn.metrics import accuracy_score\n",
    "print(accuracy_score(y_test, y_pred_2))"
   ]
  },
  {
   "cell_type": "code",
   "execution_count": 17,
   "metadata": {},
   "outputs": [
    {
     "name": "stderr",
     "output_type": "stream",
     "text": [
      "/Users/tanakamarunatsurou/.pyenv/versions/anaconda3-5.0.0/lib/python3.6/site-packages/sklearn/cross_validation.py:41: DeprecationWarning: This module was deprecated in version 0.18 in favor of the model_selection module into which all the refactored classes and functions are moved. Also note that the interface of the new CV iterators are different from that of this module. This module will be removed in 0.20.\n",
      "  \"This module will be removed in 0.20.\", DeprecationWarning)\n",
      "/Users/tanakamarunatsurou/.pyenv/versions/anaconda3-5.0.0/lib/python3.6/site-packages/sklearn/grid_search.py:42: DeprecationWarning: This module was deprecated in version 0.18 in favor of the model_selection module into which all the refactored classes and functions are moved. This module will be removed in 0.20.\n",
      "  DeprecationWarning)\n"
     ]
    },
    {
     "data": {
      "text/plain": [
       "GridSearchCV(cv=5, error_score='raise',\n",
       "       estimator=RandomForestClassifier(bootstrap=True, class_weight=None, criterion='gini',\n",
       "            max_depth=None, max_features='auto', max_leaf_nodes=None,\n",
       "            min_impurity_decrease=0.0, min_impurity_split=None,\n",
       "            min_samples_leaf=1, min_samples_split=2,\n",
       "            min_weight_fraction_leaf=0.0, n_estimators=10, n_jobs=1,\n",
       "            oob_score=False, random_state=None, verbose=0,\n",
       "            warm_start=False),\n",
       "       fit_params={}, iid=True, n_jobs=1,\n",
       "       param_grid={'n_estimators': [30, 40, 50, 60, 70], 'max_depth': [2, 3, 4]},\n",
       "       pre_dispatch='2*n_jobs', refit=True, scoring=None, verbose=0)"
      ]
     },
     "execution_count": 17,
     "metadata": {},
     "output_type": "execute_result"
    }
   ],
   "source": [
    "param_grid ={\"n_estimators\": [i for i in range(30, 80, 10)],\n",
    "            \"max_depth\": [i for i in range(2,5)]}\n",
    "\n",
    "from sklearn.grid_search import GridSearchCV\n",
    "rfc_1 = GridSearchCV(RandomForestClassifier(), param_grid, cv=5)\n",
    "rfc_1.fit(X_1_train, y_train)"
   ]
  },
  {
   "cell_type": "code",
   "execution_count": 17,
   "metadata": {},
   "outputs": [
    {
     "name": "stderr",
     "output_type": "stream",
     "text": [
      "/Users/tanakamarunatsurou/.pyenv/versions/anaconda3-5.0.0/lib/python3.6/site-packages/sklearn/cross_validation.py:41: DeprecationWarning: This module was deprecated in version 0.18 in favor of the model_selection module into which all the refactored classes and functions are moved. Also note that the interface of the new CV iterators are different from that of this module. This module will be removed in 0.20.\n",
      "  \"This module will be removed in 0.20.\", DeprecationWarning)\n",
      "/Users/tanakamarunatsurou/.pyenv/versions/anaconda3-5.0.0/lib/python3.6/site-packages/sklearn/grid_search.py:42: DeprecationWarning: This module was deprecated in version 0.18 in favor of the model_selection module into which all the refactored classes and functions are moved. This module will be removed in 0.20.\n",
      "  DeprecationWarning)\n"
     ]
    },
    {
     "data": {
      "text/plain": [
       "GridSearchCV(cv=5, error_score='raise',\n",
       "       estimator=RandomForestClassifier(bootstrap=True, class_weight=None, criterion='gini',\n",
       "            max_depth=None, max_features='auto', max_leaf_nodes=None,\n",
       "            min_impurity_decrease=0.0, min_impurity_split=None,\n",
       "            min_samples_leaf=1, min_samples_split=2,\n",
       "            min_weight_fraction_leaf=0.0, n_estimators=10, n_jobs=1,\n",
       "            oob_score=False, random_state=None, verbose=0,\n",
       "            warm_start=False),\n",
       "       fit_params={}, iid=True, n_jobs=1,\n",
       "       param_grid={'n_estimators': [30, 40, 50, 60, 70], 'max_depth': [2, 3, 4]},\n",
       "       pre_dispatch='2*n_jobs', refit=True, scoring=None, verbose=0)"
      ]
     },
     "execution_count": 17,
     "metadata": {},
     "output_type": "execute_result"
    }
   ],
   "source": [
    "param_grid ={\"n_estimators\": [i for i in range(30, 80, 10)],\n",
    "            \"max_depth\": [i for i in range(2,5)]}\n",
    "\n",
    "from sklearn.grid_search import GridSearchCV\n",
    "rfc_2 = GridSearchCV(RandomForestClassifier(), param_grid, cv=5)\n",
    "rfc_2.fit(X_2_train, y_train)"
   ]
  },
  {
   "cell_type": "code",
   "execution_count": 41,
   "metadata": {},
   "outputs": [
    {
     "ename": "AttributeError",
     "evalue": "'RandomForestClassifier' object has no attribute 'best_estimator_'",
     "output_type": "error",
     "traceback": [
      "\u001b[0;31m---------------------------------------------------------------------------\u001b[0m",
      "\u001b[0;31mAttributeError\u001b[0m                            Traceback (most recent call last)",
      "\u001b[0;32m<ipython-input-41-a2f9675d2f04>\u001b[0m in \u001b[0;36m<module>\u001b[0;34m()\u001b[0m\n\u001b[0;32m----> 1\u001b[0;31m \u001b[0mprint\u001b[0m\u001b[0;34m(\u001b[0m\u001b[0;34m\"Best model:\\n{}\\n\"\u001b[0m\u001b[0;34m.\u001b[0m\u001b[0mformat\u001b[0m\u001b[0;34m(\u001b[0m\u001b[0mrfc_1\u001b[0m\u001b[0;34m.\u001b[0m\u001b[0mbest_estimator_\u001b[0m\u001b[0;34m)\u001b[0m\u001b[0;34m)\u001b[0m\u001b[0;34m\u001b[0m\u001b[0m\n\u001b[0m\u001b[1;32m      2\u001b[0m \u001b[0mprint\u001b[0m\u001b[0;34m(\u001b[0m\u001b[0;34m\"Best parameter:\\n{}\\n\"\u001b[0m\u001b[0;34m.\u001b[0m\u001b[0mformat\u001b[0m\u001b[0;34m(\u001b[0m\u001b[0mrfc_1\u001b[0m\u001b[0;34m.\u001b[0m\u001b[0mbest_params_\u001b[0m\u001b[0;34m)\u001b[0m\u001b[0;34m)\u001b[0m\u001b[0;34m\u001b[0m\u001b[0m\n",
      "\u001b[0;31mAttributeError\u001b[0m: 'RandomForestClassifier' object has no attribute 'best_estimator_'"
     ]
    }
   ],
   "source": [
    "print(\"Best model:\\n{}\\n\".format(rfc_1.best_estimator_))\n",
    "print(\"Best parameter:\\n{}\\n\".format(rfc_1.best_params_))"
   ]
  },
  {
   "cell_type": "code",
   "execution_count": 18,
   "metadata": {},
   "outputs": [
    {
     "name": "stdout",
     "output_type": "stream",
     "text": [
      "Best model_2:\n",
      "RandomForestClassifier(bootstrap=True, class_weight=None, criterion='gini',\n",
      "            max_depth=4, max_features='auto', max_leaf_nodes=None,\n",
      "            min_impurity_decrease=0.0, min_impurity_split=None,\n",
      "            min_samples_leaf=1, min_samples_split=2,\n",
      "            min_weight_fraction_leaf=0.0, n_estimators=50, n_jobs=1,\n",
      "            oob_score=False, random_state=None, verbose=0,\n",
      "            warm_start=False)\n",
      "\n",
      "Best parameter_2:\n",
      "{'max_depth': 4, 'n_estimators': 50}\n",
      "\n"
     ]
    }
   ],
   "source": [
    "print(\"Best model_2:\\n{}\\n\".format(rfc_2.best_estimator_))\n",
    "print(\"Best parameter_2:\\n{}\\n\".format(rfc_2.best_params_))"
   ]
  },
  {
   "cell_type": "code",
   "execution_count": 19,
   "metadata": {
    "collapsed": true
   },
   "outputs": [],
   "source": [
    "rfc_3 = RandomForestClassifier(bootstrap=True, class_weight=None, criterion='gini',\n",
    "            max_depth=4, max_features='auto', max_leaf_nodes=None,\n",
    "            min_impurity_decrease=0.0, min_impurity_split=None,\n",
    "            min_samples_leaf=1, min_samples_split=2,\n",
    "            min_weight_fraction_leaf=0.0, n_estimators=50, n_jobs=1,\n",
    "            oob_score=False, random_state=None, verbose=0,\n",
    "            warm_start=False)"
   ]
  },
  {
   "cell_type": "code",
   "execution_count": 20,
   "metadata": {},
   "outputs": [
    {
     "data": {
      "text/plain": [
       "RandomForestClassifier(bootstrap=True, class_weight=None, criterion='gini',\n",
       "            max_depth=4, max_features='auto', max_leaf_nodes=None,\n",
       "            min_impurity_decrease=0.0, min_impurity_split=None,\n",
       "            min_samples_leaf=1, min_samples_split=2,\n",
       "            min_weight_fraction_leaf=0.0, n_estimators=50, n_jobs=1,\n",
       "            oob_score=False, random_state=None, verbose=0,\n",
       "            warm_start=False)"
      ]
     },
     "execution_count": 20,
     "metadata": {},
     "output_type": "execute_result"
    }
   ],
   "source": [
    "rfc_3.fit(X_2,y_1)"
   ]
  },
  {
   "cell_type": "code",
   "execution_count": 19,
   "metadata": {
    "collapsed": true
   },
   "outputs": [],
   "source": [
    "rfc_2 = RandomForestClassifier(bootstrap=True, class_weight=None, criterion='gini',\n",
    "            max_depth=4, max_features='auto', max_leaf_nodes=None,\n",
    "            min_impurity_decrease=0.0, min_impurity_split=None,\n",
    "            min_samples_leaf=1, min_samples_split=2,\n",
    "            min_weight_fraction_leaf=0.0, n_estimators=30, n_jobs=1,\n",
    "            oob_score=False, random_state=None, verbose=0,\n",
    "            warm_start=False)"
   ]
  },
  {
   "cell_type": "code",
   "execution_count": 20,
   "metadata": {},
   "outputs": [
    {
     "data": {
      "text/plain": [
       "RandomForestClassifier(bootstrap=True, class_weight=None, criterion='gini',\n",
       "            max_depth=4, max_features='auto', max_leaf_nodes=None,\n",
       "            min_impurity_decrease=0.0, min_impurity_split=None,\n",
       "            min_samples_leaf=1, min_samples_split=2,\n",
       "            min_weight_fraction_leaf=0.0, n_estimators=30, n_jobs=1,\n",
       "            oob_score=False, random_state=None, verbose=0,\n",
       "            warm_start=False)"
      ]
     },
     "execution_count": 20,
     "metadata": {},
     "output_type": "execute_result"
    }
   ],
   "source": [
    "rfc_2.fit(X_1, y_1)"
   ]
  },
  {
   "cell_type": "code",
   "execution_count": 22,
   "metadata": {},
   "outputs": [
    {
     "name": "stderr",
     "output_type": "stream",
     "text": [
      "/Users/tanakamarunatsurou/.pyenv/versions/anaconda3-5.0.0/lib/python3.6/site-packages/ipykernel_launcher.py:14: FutureWarning: currently extract(expand=None) means expand=False (return Index/Series/DataFrame) but in a future version of pandas this will be changed to expand=True (return DataFrame)\n",
      "  \n"
     ]
    },
    {
     "data": {
      "text/plain": [
       "Initial\n",
       "Master     7.406471\n",
       "Miss      21.774844\n",
       "Mr        32.114130\n",
       "Mrs       38.904762\n",
       "Other     42.750000\n",
       "Name: Age, dtype: float64"
      ]
     },
     "execution_count": 22,
     "metadata": {},
     "output_type": "execute_result"
    }
   ],
   "source": [
    "#Trainへの適用\n",
    "df_test = df_test.drop(['Cabin','Ticket'], axis=1)\n",
    "\n",
    "#Family sizeを錬成\n",
    "df_test['FamilySize'] = df_test['SibSp'] + df_test['Parch'] + 1\n",
    "df_test = df_test.drop(['SibSp','Parch'], axis=1)\n",
    "\n",
    "#Fareを補充\n",
    "df_test[\"Fare\"] = df_test[\"Fare\"].fillna(df_test[\"Fare\"].mean())\n",
    "\n",
    "#Ageを補充\n",
    "df_test['Initial']=0\n",
    "for i in df_test:\n",
    "    df_test['Initial']=df_test.Name.str.extract('([A-Za-z]+)\\.')\n",
    "\n",
    "df_test['Initial'].replace(['Mlle','Mme','Ms','Dr','Major','Lady','Countess','Jonkheer','Col','Rev','Capt','Sir','Don','Dona'],['Miss','Miss','Miss','Mr','Mr','Mrs','Mrs','Other','Other','Other','Mr','Mr','Mr','Mrs'],inplace=True)\n",
    "\n",
    "df_test.groupby('Initial')['Age'].mean() "
   ]
  },
  {
   "cell_type": "code",
   "execution_count": 23,
   "metadata": {
    "collapsed": true
   },
   "outputs": [],
   "source": [
    "#Ageを補充\n",
    "df_test.loc[(df_test.Age.isnull())&(df_test.Initial=='Mr'),'Age']=32\n",
    "df_test.loc[(df_test.Age.isnull())&(df_test.Initial=='Mrs'),'Age']=39\n",
    "df_test.loc[(df_test.Age.isnull())&(df_test.Initial=='Master'),'Age']=7\n",
    "df_test.loc[(df_test.Age.isnull())&(df_test.Initial=='Miss'),'Age']=22\n",
    "df_test.loc[(df_test.Age.isnull())&(df_test.Initial=='Other'),'Age']=43"
   ]
  },
  {
   "cell_type": "code",
   "execution_count": 24,
   "metadata": {
    "collapsed": true
   },
   "outputs": [],
   "source": [
    "#SEX\n",
    "sex_dum = pd.get_dummies(df_test['Sex'])\n",
    "df_test = pd.concat((df_test,sex_dum),axis=1)\n",
    "df_test = df_test.drop('Sex',axis=1)\n",
    " #Embarked\n",
    "emb_dum = pd.get_dummies(df_test['Embarked'])\n",
    "df_test = pd.concat((df_test,emb_dum),axis=1)\n",
    "df_test = df_test.drop('Embarked',axis=1)\n",
    "#Initial\n",
    "int_dum = pd.get_dummies(df_test['Initial'])\n",
    "df_test = pd.concat((df_test,int_dum),axis=1)\n",
    "df_test = df_test.drop('Initial',axis=1)"
   ]
  },
  {
   "cell_type": "code",
   "execution_count": 25,
   "metadata": {},
   "outputs": [],
   "source": [
    "df_test_pickup = df_test.loc[:,['Pclass','Age','female','male','FamilySize','Master','Miss','Mr','Mrs','Other']]\n",
    "X_test = df_test_pickup.values"
   ]
  },
  {
   "cell_type": "code",
   "execution_count": 27,
   "metadata": {
    "collapsed": true
   },
   "outputs": [],
   "source": [
    "df_test_pickup_2 = df_test.loc[:,['Pclass','Age','female','FamilySize','Master']]\n",
    "X_test_2 = df_test_pickup_2.values"
   ]
  },
  {
   "cell_type": "code",
   "execution_count": 26,
   "metadata": {
    "collapsed": true
   },
   "outputs": [],
   "source": [
    "test_pred = rfc_2.predict(X_test)"
   ]
  },
  {
   "cell_type": "code",
   "execution_count": 28,
   "metadata": {},
   "outputs": [],
   "source": [
    "test_pred_2 = rfc_3.predict(X_test_2)"
   ]
  },
  {
   "cell_type": "code",
   "execution_count": 27,
   "metadata": {
    "collapsed": true
   },
   "outputs": [],
   "source": [
    "submission = pd.DataFrame({\n",
    "        \"PassengerId\": df_test[\"PassengerId\"],\n",
    "        \"Survived\": test_pred\n",
    "    })\n",
    "submission.to_csv('submission1946.csv',index=False)"
   ]
  },
  {
   "cell_type": "code",
   "execution_count": 29,
   "metadata": {
    "collapsed": true
   },
   "outputs": [],
   "source": [
    "submission = pd.DataFrame({\n",
    "        \"PassengerId\": df_test[\"PassengerId\"],\n",
    "        \"Survived\": test_pred_2\n",
    "    })\n",
    "submission.to_csv('submission2115.csv',index=False)"
   ]
  },
  {
   "cell_type": "code",
   "execution_count": null,
   "metadata": {
    "collapsed": true
   },
   "outputs": [],
   "source": []
  }
 ],
 "metadata": {
  "kernelspec": {
   "display_name": "Python 3",
   "language": "python",
   "name": "python3"
  },
  "language_info": {
   "codemirror_mode": {
    "name": "ipython",
    "version": 3
   },
   "file_extension": ".py",
   "mimetype": "text/x-python",
   "name": "python",
   "nbconvert_exporter": "python",
   "pygments_lexer": "ipython3",
   "version": "3.6.2"
  }
 },
 "nbformat": 4,
 "nbformat_minor": 2
}
